{
 "cells": [
  {
   "cell_type": "markdown",
   "metadata": {},
   "source": [
    "# VacationPy\n",
    "----\n",
    "\n",
    "#### Note\n",
    "* Instructions have been included for each segment. You do not have to follow them exactly, but they are included to help you think through the steps."
   ]
  },
  {
   "cell_type": "code",
   "execution_count": 8,
   "metadata": {},
   "outputs": [],
   "source": [
    "# Dependencies and Setup\n",
    "import matplotlib.pyplot as plt\n",
    "import pandas as pd\n",
    "import numpy as np\n",
    "import requests\n",
    "import gmaps\n",
    "import os\n",
    "from matplotlib import pyplot as plt\n",
    "\n",
    "\n",
    "\n",
    "# Import API key\n",
    "from api_keys import g_key\n",
    "gmaps.configure(api_key = g_key)\n",
    "#print(g_key)"
   ]
  },
  {
   "cell_type": "markdown",
   "metadata": {},
   "source": [
    "### Store Part I results into DataFrame\n",
    "* Load the csv exported in Part I to a DataFrame"
   ]
  },
  {
   "cell_type": "code",
   "execution_count": 9,
   "metadata": {},
   "outputs": [
    {
     "data": {
      "text/html": [
       "<div>\n",
       "<style scoped>\n",
       "    .dataframe tbody tr th:only-of-type {\n",
       "        vertical-align: middle;\n",
       "    }\n",
       "\n",
       "    .dataframe tbody tr th {\n",
       "        vertical-align: top;\n",
       "    }\n",
       "\n",
       "    .dataframe thead th {\n",
       "        text-align: right;\n",
       "    }\n",
       "</style>\n",
       "<table border=\"1\" class=\"dataframe\">\n",
       "  <thead>\n",
       "    <tr style=\"text-align: right;\">\n",
       "      <th></th>\n",
       "      <th>Unnamed: 0</th>\n",
       "      <th>City</th>\n",
       "      <th>Lat</th>\n",
       "      <th>Lng</th>\n",
       "      <th>Max Temp</th>\n",
       "      <th>Humidity</th>\n",
       "      <th>Cloudiness</th>\n",
       "      <th>Wind Speed</th>\n",
       "      <th>Country</th>\n",
       "      <th>Date</th>\n",
       "    </tr>\n",
       "  </thead>\n",
       "  <tbody>\n",
       "    <tr>\n",
       "      <th>0</th>\n",
       "      <td>0</td>\n",
       "      <td>Thompson</td>\n",
       "      <td>55.74</td>\n",
       "      <td>-97.86</td>\n",
       "      <td>35.60</td>\n",
       "      <td>100</td>\n",
       "      <td>90</td>\n",
       "      <td>14.99</td>\n",
       "      <td>CA</td>\n",
       "      <td>1592504879</td>\n",
       "    </tr>\n",
       "    <tr>\n",
       "      <th>1</th>\n",
       "      <td>1</td>\n",
       "      <td>Cherskiy</td>\n",
       "      <td>68.75</td>\n",
       "      <td>161.30</td>\n",
       "      <td>65.26</td>\n",
       "      <td>41</td>\n",
       "      <td>7</td>\n",
       "      <td>7.74</td>\n",
       "      <td>RU</td>\n",
       "      <td>1592504879</td>\n",
       "    </tr>\n",
       "    <tr>\n",
       "      <th>2</th>\n",
       "      <td>2</td>\n",
       "      <td>Chabahar</td>\n",
       "      <td>25.29</td>\n",
       "      <td>60.64</td>\n",
       "      <td>85.37</td>\n",
       "      <td>81</td>\n",
       "      <td>8</td>\n",
       "      <td>1.52</td>\n",
       "      <td>IR</td>\n",
       "      <td>1592504879</td>\n",
       "    </tr>\n",
       "    <tr>\n",
       "      <th>3</th>\n",
       "      <td>3</td>\n",
       "      <td>Maragogi</td>\n",
       "      <td>-9.01</td>\n",
       "      <td>-35.22</td>\n",
       "      <td>79.88</td>\n",
       "      <td>76</td>\n",
       "      <td>11</td>\n",
       "      <td>12.06</td>\n",
       "      <td>BR</td>\n",
       "      <td>1592504713</td>\n",
       "    </tr>\n",
       "    <tr>\n",
       "      <th>4</th>\n",
       "      <td>4</td>\n",
       "      <td>Nikolskoye</td>\n",
       "      <td>59.70</td>\n",
       "      <td>30.79</td>\n",
       "      <td>69.80</td>\n",
       "      <td>73</td>\n",
       "      <td>75</td>\n",
       "      <td>6.71</td>\n",
       "      <td>RU</td>\n",
       "      <td>1592504779</td>\n",
       "    </tr>\n",
       "    <tr>\n",
       "      <th>5</th>\n",
       "      <td>5</td>\n",
       "      <td>Barrow</td>\n",
       "      <td>71.29</td>\n",
       "      <td>-156.79</td>\n",
       "      <td>39.20</td>\n",
       "      <td>80</td>\n",
       "      <td>1</td>\n",
       "      <td>9.17</td>\n",
       "      <td>US</td>\n",
       "      <td>1592504879</td>\n",
       "    </tr>\n",
       "    <tr>\n",
       "      <th>6</th>\n",
       "      <td>6</td>\n",
       "      <td>Albany</td>\n",
       "      <td>42.60</td>\n",
       "      <td>-73.97</td>\n",
       "      <td>87.01</td>\n",
       "      <td>46</td>\n",
       "      <td>4</td>\n",
       "      <td>5.93</td>\n",
       "      <td>US</td>\n",
       "      <td>1592504729</td>\n",
       "    </tr>\n",
       "    <tr>\n",
       "      <th>7</th>\n",
       "      <td>7</td>\n",
       "      <td>Ndola</td>\n",
       "      <td>-12.96</td>\n",
       "      <td>28.64</td>\n",
       "      <td>55.71</td>\n",
       "      <td>65</td>\n",
       "      <td>0</td>\n",
       "      <td>6.91</td>\n",
       "      <td>ZM</td>\n",
       "      <td>1592504879</td>\n",
       "    </tr>\n",
       "    <tr>\n",
       "      <th>8</th>\n",
       "      <td>8</td>\n",
       "      <td>Marki</td>\n",
       "      <td>52.32</td>\n",
       "      <td>21.10</td>\n",
       "      <td>77.00</td>\n",
       "      <td>65</td>\n",
       "      <td>23</td>\n",
       "      <td>1.12</td>\n",
       "      <td>PL</td>\n",
       "      <td>1592504879</td>\n",
       "    </tr>\n",
       "    <tr>\n",
       "      <th>9</th>\n",
       "      <td>9</td>\n",
       "      <td>Bridlington</td>\n",
       "      <td>54.08</td>\n",
       "      <td>-0.19</td>\n",
       "      <td>59.00</td>\n",
       "      <td>100</td>\n",
       "      <td>100</td>\n",
       "      <td>5.82</td>\n",
       "      <td>GB</td>\n",
       "      <td>1592504879</td>\n",
       "    </tr>\n",
       "  </tbody>\n",
       "</table>\n",
       "</div>"
      ],
      "text/plain": [
       "   Unnamed: 0         City    Lat     Lng  Max Temp  Humidity  Cloudiness  \\\n",
       "0           0     Thompson  55.74  -97.86     35.60       100          90   \n",
       "1           1     Cherskiy  68.75  161.30     65.26        41           7   \n",
       "2           2     Chabahar  25.29   60.64     85.37        81           8   \n",
       "3           3     Maragogi  -9.01  -35.22     79.88        76          11   \n",
       "4           4   Nikolskoye  59.70   30.79     69.80        73          75   \n",
       "5           5       Barrow  71.29 -156.79     39.20        80           1   \n",
       "6           6       Albany  42.60  -73.97     87.01        46           4   \n",
       "7           7        Ndola -12.96   28.64     55.71        65           0   \n",
       "8           8        Marki  52.32   21.10     77.00        65          23   \n",
       "9           9  Bridlington  54.08   -0.19     59.00       100         100   \n",
       "\n",
       "   Wind Speed Country        Date  \n",
       "0       14.99      CA  1592504879  \n",
       "1        7.74      RU  1592504879  \n",
       "2        1.52      IR  1592504879  \n",
       "3       12.06      BR  1592504713  \n",
       "4        6.71      RU  1592504779  \n",
       "5        9.17      US  1592504879  \n",
       "6        5.93      US  1592504729  \n",
       "7        6.91      ZM  1592504879  \n",
       "8        1.12      PL  1592504879  \n",
       "9        5.82      GB  1592504879  "
      ]
     },
     "execution_count": 9,
     "metadata": {},
     "output_type": "execute_result"
    }
   ],
   "source": [
    "# File to Load:\n",
    "file_path ='../WeatherPy/output_data/cities.csv' # csv file created in part I of homework \n",
    "\n",
    "# Read csv cities file and store into data frame:\n",
    "city_csv = pd.read_csv(file_path)\n",
    "city_csv.head(10)\n"
   ]
  },
  {
   "cell_type": "markdown",
   "metadata": {},
   "source": [
    "### Humidity Heatmap\n",
    "* Configure gmaps.\n",
    "* Use the Lat and Lng as locations and Humidity as the weight.\n",
    "* Add Heatmap layer to map."
   ]
  },
  {
   "cell_type": "code",
   "execution_count": 10,
   "metadata": {},
   "outputs": [
    {
     "data": {
      "text/plain": [
       "100"
      ]
     },
     "execution_count": 10,
     "metadata": {},
     "output_type": "execute_result"
    }
   ],
   "source": [
    "# Determan maximum humidity level in the city data frame:\n",
    "maximum_humidity = city_csv['Humidity'].max()\n",
    "maximum_humidity"
   ]
  },
  {
   "cell_type": "code",
   "execution_count": 21,
   "metadata": {},
   "outputs": [],
   "source": [
    "# Store 'Lat' and 'Lng' into  locations: \n",
    "city_csv = city_csv.dropna() # drop NaN values\n",
    "locations = city_csv[['Lat', 'Lng']].astype(float)\n",
    "#print(locations)\n",
    "\n",
    "# Convert humidity level to float and store:\n",
    "humidity_rate = city_csv['Humidity'].astype(float)\n",
    "#humidity_rate"
   ]
  },
  {
   "cell_type": "code",
   "execution_count": 22,
   "metadata": {},
   "outputs": [
    {
     "data": {
      "application/vnd.jupyter.widget-view+json": {
       "model_id": "73934489a0844f03b4a23e2c838deef8",
       "version_major": 2,
       "version_minor": 0
      },
      "text/plain": [
       "Figure(layout=FigureLayout(height='420px'))"
      ]
     },
     "metadata": {},
     "output_type": "display_data"
    },
    {
     "data": {
      "text/plain": [
       "<Figure size 432x288 with 0 Axes>"
      ]
     },
     "metadata": {},
     "output_type": "display_data"
    }
   ],
   "source": [
    "# Create a humidity heat map layer:\n",
    "fig = gmaps.figure()\n",
    "\n",
    "\n",
    "heat_layer = gmaps.heatmap_layer(locations, weights = humidity_rate, \n",
    "                                 dissipating = False, max_intensity = maximum_humidity,\n",
    "                                 point_radius = 1)\n",
    "\n",
    "\n",
    "# Adjust heat_layer setting to help with heatmap dissipating on zoom\n",
    "heat_layer.dissipating = False\n",
    "heat_layer.max_intensity = 100\n",
    "heat_layer.point_radius = 1\n",
    "\n",
    "fig.add_layer(heat_layer)\n",
    "\n",
    "plt.savefig('Images/humidity heat map layer.png')\n",
    "fig\n"
   ]
  },
  {
   "cell_type": "markdown",
   "metadata": {},
   "source": [
    "### Create new DataFrame fitting weather criteria\n",
    "* Narrow down the cities to fit weather conditions.\n",
    "* Drop any rows will null values."
   ]
  },
  {
   "cell_type": "code",
   "execution_count": 13,
   "metadata": {},
   "outputs": [
    {
     "data": {
      "text/plain": [
       "Unnamed: 0    15\n",
       "City          15\n",
       "Lat           15\n",
       "Lng           15\n",
       "Max Temp      15\n",
       "Humidity      15\n",
       "Cloudiness    15\n",
       "Wind Speed    15\n",
       "Country       15\n",
       "Date          15\n",
       "dtype: int64"
      ]
     },
     "execution_count": 13,
     "metadata": {},
     "output_type": "execute_result"
    }
   ],
   "source": [
    "# Create new data frame with requested weather conditions:\n",
    "city_csv_narrow = city_csv[(city_csv['Max Temp'] < 96) &\n",
    "                             (city_csv['Max Temp'] > 55) &\n",
    "                             (city_csv['Wind Speed'] < 10) &\n",
    "                             (city_csv['Cloudiness'] < 15) &\n",
    "                             (city_csv['Humidity'] < 30)]\n",
    "city_csv_narrow = city_csv_narrow.dropna() # drop any rows will null values\n",
    "city_csv_narrow.count()\n",
    "#city_csv_narrow"
   ]
  },
  {
   "cell_type": "code",
   "execution_count": 14,
   "metadata": {},
   "outputs": [
    {
     "name": "stdout",
     "output_type": "stream",
     "text": [
      "Search Begin\n",
      "-----------------------------\n",
      "Looking for Hotels near: 141 | Record 1 of Total 15\n",
      "Looking for Hotels near: 164 | Record 2 of Total 15\n",
      "Looking for Hotels near: 166 | Record 3 of Total 15\n",
      "Looking for Hotels near: 212 | Record 4 of Total 15\n",
      "Looking for Hotels near: 240 | Record 5 of Total 15\n",
      "No Hotel Near Location... Skipping...\n",
      "Looking for Hotels near: 255 | Record 6 of Total 15\n",
      "Looking for Hotels near: 276 | Record 7 of Total 15\n",
      "No Hotel Near Location... Skipping...\n",
      "Looking for Hotels near: 293 | Record 8 of Total 15\n",
      "Looking for Hotels near: 298 | Record 9 of Total 15\n",
      "Looking for Hotels near: 316 | Record 10 of Total 15\n",
      "Looking for Hotels near: 382 | Record 11 of Total 15\n",
      "No Hotel Near Location... Skipping...\n",
      "Looking for Hotels near: 400 | Record 12 of Total 15\n",
      "No Hotel Near Location... Skipping...\n",
      "Looking for Hotels near: 438 | Record 13 of Total 15\n",
      "Looking for Hotels near: 484 | Record 14 of Total 15\n",
      "Looking for Hotels near: 575 | Record 15 of Total 15\n",
      "Complete\n"
     ]
    }
   ],
   "source": [
    "# Set up lists to hold response info:\n",
    "name=[]         # list for hotel name\n",
    "city=[]         # list for hotel city\n",
    "country=[]      # list for hotel country\n",
    "lat=[]          # list for hotel latitude\n",
    "lng=[]          # list for hotel longitude\n",
    "\n",
    "# Loop through the list of cities and perform a request for data on each and add to corresponding lists:\n",
    "\n",
    "count = 1 \n",
    "\n",
    "print('Search Begin')     \n",
    "print('-----------------------------')\n",
    "for i in range(len(city_csv_narrow)) : \n",
    "   \n",
    "    lati=str(city_csv_narrow.iloc[i, 2])    \n",
    "    lngi=str(city_csv_narrow.iloc[i, 3])\n",
    "    \n",
    "    target_coordinates=lati + ', ' + lngi  \n",
    "    target_search='Hotel'\n",
    "    target_radius=5000\n",
    "    target_type='lodging'\n",
    "\n",
    "    # Set up a parameters dictionary:\n",
    "    params={\n",
    "        'location': target_coordinates,\n",
    "        'keyword': target_search,\n",
    "        'radius': target_radius,\n",
    "        'type': target_type,\n",
    "        'key': g_key\n",
    "    }\n",
    "\n",
    "    # Base url:\n",
    "    base_url='https://maps.googleapis.com/maps/api/place/nearbysearch/json'\n",
    "\n",
    "    # Run a request using the above params dictionary:\n",
    "    response = requests.get(base_url, params = params)\n",
    "    #print(response.url)\n",
    "    \n",
    "    # Convert response to json:\n",
    "    places_data = response.json()\n",
    "    #print(json.dumps(places_data, indent=4, sort_keys=True))\n",
    "    \n",
    "    # Print user feedback: \n",
    "    print('Looking for Hotels near: ' + str(city_csv_narrow.iloc[i, 0]) + ' | Record ' + str(count) + ' of Total ' + str(len(city_csv_narrow)))\n",
    "     \n",
    "    # Add requested data to  result lists:\n",
    "    try:                                             # ignore errors in response\n",
    "        name.append(places_data['results'][0]['name'])\n",
    "        city.append(city_csv_narrow.iloc[i, 0])\n",
    "        country.append(city_csv_narrow.iloc[i, 1])\n",
    "        lat.append(places_data['results'][0]['geometry']['location']['lat'])\n",
    "        lng.append(places_data['results'][0]['geometry']['location']['lng'])\n",
    "    except IndexError:\n",
    "        print('No Hotel Near Location... Skipping...') \n",
    "        \n",
    "        # in case one of the responses comes back with error \"IndexError\"\n",
    "        # which could be no hotel near location \n",
    "  \n",
    "    count = count + 1\n",
    "    \n",
    "# Print Ending Log Statement:\n",
    "print('Complete')\n"
   ]
  },
  {
   "cell_type": "code",
   "execution_count": 15,
   "metadata": {},
   "outputs": [
    {
     "data": {
      "text/plain": [
       "City          11\n",
       "Country       11\n",
       "Lat           11\n",
       "Lng           11\n",
       "Hotel Name    11\n",
       "dtype: int64"
      ]
     },
     "execution_count": 15,
     "metadata": {},
     "output_type": "execute_result"
    }
   ],
   "source": [
    "# Create a data frame from api call list:\n",
    "hotel_dict={\n",
    "    'City': city,\n",
    "    'Country': country,\n",
    "    'Lat': lat,\n",
    "    'Lng': lng,\n",
    "    'Hotel Name': name\n",
    "}\n",
    "hotel_df = pd.DataFrame(hotel_dict)\n",
    "hotel_df.count()"
   ]
  },
  {
   "cell_type": "markdown",
   "metadata": {},
   "source": [
    "### Hotel Map\n",
    "* Store into variable named `hotel_df`.\n",
    "* Add a \"Hotel Name\" column to the DataFrame.\n",
    "* Set parameters to search for hotels with 5000 meters.\n",
    "* Hit the Google Places API for each city's coordinates.\n",
    "* Store the first Hotel result into the DataFrame.\n",
    "* Plot markers on top of the heatmap."
   ]
  },
  {
   "cell_type": "code",
   "execution_count": null,
   "metadata": {},
   "outputs": [],
   "source": []
  },
  {
   "cell_type": "code",
   "execution_count": null,
   "metadata": {},
   "outputs": [],
   "source": []
  },
  {
   "cell_type": "code",
   "execution_count": 16,
   "metadata": {},
   "outputs": [],
   "source": [
    "# NOTE: Do not change any of the code in this cell\n",
    "\n",
    "# Using the template add the hotel marks to the heatmap\n",
    "info_box_template = \"\"\"\n",
    "<dl>\n",
    "<dt>Name</dt><dd>{Hotel Name}</dd>\n",
    "<dt>City</dt><dd>{City}</dd>\n",
    "<dt>Country</dt><dd>{Country}</dd>\n",
    "</dl>\n",
    "\"\"\"\n",
    "# Store the DataFrame Row\n",
    "# NOTE: be sure to update with your DataFrame name\n",
    "hotel_info = [info_box_template.format(**row) for index, row in hotel_df.iterrows()]\n",
    "locations = hotel_df[[\"Lat\", \"Lng\"]]"
   ]
  },
  {
   "cell_type": "code",
   "execution_count": 17,
   "metadata": {},
   "outputs": [],
   "source": [
    "# Add marker layer ontop of heat map\n",
    "\n",
    "\n",
    "# Display figure\n"
   ]
  },
  {
   "cell_type": "code",
   "execution_count": 18,
   "metadata": {},
   "outputs": [
    {
     "data": {
      "application/vnd.jupyter.widget-view+json": {
       "model_id": "1de5c3961b684121a1c6a2c2f56a9701",
       "version_major": 2,
       "version_minor": 0
      },
      "text/plain": [
       "Figure(layout=FigureLayout(border='1px solid black', height='600px', margin='0 auto 0 auto', padding='1px', wi…"
      ]
     },
     "metadata": {},
     "output_type": "display_data"
    },
    {
     "data": {
      "text/plain": [
       "<Figure size 432x288 with 0 Axes>"
      ]
     },
     "metadata": {},
     "output_type": "display_data"
    }
   ],
   "source": [
    "# Customize the size of the figure:\n",
    "figure_layout={\n",
    "    'width': '955px',\n",
    "    'height': '600px',\n",
    "    'border': '1px solid black',\n",
    "    'padding': '1px',\n",
    "    'margin': '0 auto 0 auto'\n",
    "}\n",
    "fig = gmaps.figure(layout = figure_layout)\n",
    "\n",
    "# Assign the marker layer to a variable:\n",
    "markers = gmaps.marker_layer(locations, info_box_content=hotel_info)\n",
    "# Add the layer to the map:\n",
    "fig.add_layer(markers)\n",
    "\n",
    "\n",
    "fig"
   ]
  },
  {
   "cell_type": "code",
   "execution_count": 19,
   "metadata": {},
   "outputs": [
    {
     "data": {
      "application/vnd.jupyter.widget-view+json": {
       "model_id": "15543fd061bb4c2d8f1ab25af90d1220",
       "version_major": 2,
       "version_minor": 0
      },
      "text/plain": [
       "Figure(layout=FigureLayout(height='420px'))"
      ]
     },
     "metadata": {},
     "output_type": "display_data"
    },
    {
     "data": {
      "text/plain": [
       "<Figure size 432x288 with 0 Axes>"
      ]
     },
     "metadata": {},
     "output_type": "display_data"
    }
   ],
   "source": [
    "# Create a combined map:\n",
    "fig=gmaps.figure()\n",
    "\n",
    "fig.add_layer(heat_layer)\n",
    "fig.add_layer(markers)\n",
    "\n",
    "fig"
   ]
  }
 ],
 "metadata": {
  "kernelspec": {
   "display_name": "Python 3",
   "language": "python",
   "name": "python3"
  },
  "language_info": {
   "codemirror_mode": {
    "name": "ipython",
    "version": 3
   },
   "file_extension": ".py",
   "mimetype": "text/x-python",
   "name": "python",
   "nbconvert_exporter": "python",
   "pygments_lexer": "ipython3",
   "version": "3.6.10"
  },
  "latex_envs": {
   "LaTeX_envs_menu_present": true,
   "autoclose": false,
   "autocomplete": true,
   "bibliofile": "biblio.bib",
   "cite_by": "apalike",
   "current_citInitial": 1,
   "eqLabelWithNumbers": true,
   "eqNumInitial": 1,
   "hotkeys": {
    "equation": "Ctrl-E",
    "itemize": "Ctrl-I"
   },
   "labels_anchors": false,
   "latex_user_defs": false,
   "report_style_numbering": false,
   "user_envs_cfg": false
  }
 },
 "nbformat": 4,
 "nbformat_minor": 2
}
